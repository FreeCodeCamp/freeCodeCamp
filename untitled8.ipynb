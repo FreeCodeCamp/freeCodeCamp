%matplotlib inline
import cv2 as cv
import os
import numpy as np
import matplotlib.pyplot as plt
